{
  "cells": [
    {
      "cell_type": "markdown",
      "metadata": {
        "id": "view-in-github",
        "colab_type": "text"
      },
      "source": [
        "<a href=\"https://colab.research.google.com/github/jhmartel/MCG/blob/master/2022-06-23-ClosingSteinbergGenusTwo.ipynb\" target=\"_parent\"><img src=\"https://colab.research.google.com/assets/colab-badge.svg\" alt=\"Open In Colab\"/></a>"
      ]
    },
    {
      "cell_type": "code",
      "source": [
        "!pip install curver --user --upgrade  ## need install curver package."
      ],
      "metadata": {
        "id": "TnLdcHqLcOrF",
        "colab": {
          "base_uri": "https://localhost:8080/"
        },
        "outputId": "c2c8a4fa-5e1e-4812-aebd-12619b0ad2c6"
      },
      "id": "TnLdcHqLcOrF",
      "execution_count": 1,
      "outputs": [
        {
          "output_type": "stream",
          "name": "stdout",
          "text": [
            "Looking in indexes: https://pypi.org/simple, https://us-python.pkg.dev/colab-wheels/public/simple/\n",
            "Collecting curver\n",
            "  Downloading curver-0.4.1.tar.gz (129 kB)\n",
            "\u001b[K     |████████████████████████████████| 129 kB 5.1 MB/s \n",
            "\u001b[?25hRequirement already satisfied: decorator>=4.3.0 in /usr/local/lib/python3.7/dist-packages (from curver) (4.4.2)\n",
            "Requirement already satisfied: networkx>=2.0 in /usr/local/lib/python3.7/dist-packages (from curver) (2.6.3)\n",
            "Requirement already satisfied: numpy>=1.15.1 in /usr/local/lib/python3.7/dist-packages (from curver) (1.21.6)\n",
            "Building wheels for collected packages: curver\n",
            "  Building wheel for curver (setup.py) ... \u001b[?25l\u001b[?25hdone\n",
            "  Created wheel for curver: filename=curver-0.4.1-py2.py3-none-any.whl size=89028 sha256=b766265f3cc9075833a878bae7f24ba6f0d952500006bf5b58e7e27c0e7a7458\n",
            "  Stored in directory: /root/.cache/pip/wheels/18/ff/28/1623e331466b35323bafd0fe30aabec23a23c83e04bbd53ea3\n",
            "Successfully built curver\n",
            "Installing collected packages: curver\n",
            "Successfully installed curver-0.4.1\n"
          ]
        }
      ]
    },
    {
      "cell_type": "code",
      "execution_count": null,
      "id": "fc59ac01-4400-4801-a673-e60f40fa345b",
      "metadata": {
        "tags": [],
        "colab": {
          "base_uri": "https://localhost:8080/"
        },
        "id": "fc59ac01-4400-4801-a673-e60f40fa345b",
        "outputId": "45f9105a-6be1-49e6-9228-49862f41972f"
      },
      "outputs": [
        {
          "output_type": "stream",
          "name": "stdout",
          "text": [
            "The mu translate of the standard pant is disjoint from pant.  True\n",
            "\n",
            "The Steinberg symbol in our calculation is xi, and is the sum of the standard pant with its mu translate.\n",
            "\n",
            "The mu translates of xi are all pairwise distinct: True\n",
            "\n",
            "The iterated symmetric difference of the mu translates is empty. True\n",
            "\n",
            "The mu-orbit of xi is supported on ten curves. True\n",
            "\n",
            "Therefore we find I={Id, mu, mu**2, mu**3, mu**4} is a formal solution to Closing the Steinberg symbol xi in genus two.\n",
            "\n"
          ]
        }
      ],
      "source": [
        "import curver\n",
        "\n",
        "# we load the mapping class group of genus two with one puncture ##\n",
        "S=curver.load(2,1)  \n",
        "\n",
        "# Below are the standard generators in Lickorish presentation, following Bell, Margalit, etc.. ##\n",
        "# Bell uses the Lickorish generators as presented in Farb-Margalit [2012].\n",
        "# So {a_i, b_i} are dual curves, the {a_0, a_1, ...} are disjoint, and also {b_0, b_1, ...}\n",
        "# the curves {c_0, c_1, ...} are curves with double intersections with {b_0, b_1, ...}\n",
        "\n",
        "Id=S('') \n",
        "a=S('a_0')\n",
        "A=a**-1\n",
        "b=S('a_1')\n",
        "B=b**-1\n",
        "c=S('c_0')\n",
        "C=c**-1\n",
        "d=S('d_1')\n",
        "D=d**-1\n",
        "e=S('b_0')\n",
        "E=e**-1\n",
        "f=S('b_1')\n",
        "F=f**-1\n",
        "\n",
        "\n",
        "# Ad is the adjoint action \n",
        "# which replaces w2 by the w1-conjugate.\n",
        "def Ad(w1, w2):\n",
        "    return w1*w2*(w1**-1)\n",
        "\n",
        "# Translate is used to compute the adjoint action \n",
        "# on a collection of curves, i.e. the pants p.\n",
        "def Translate(x, p):\n",
        "    return {Ad(x,w) for w in p}\n",
        "\n",
        "# br stands for \"bracket\" like \"commutator bracket\". \n",
        "# Thus br(x,y)=[x,y]=xyx^{-1} y^{1} in the usual group-theoretic notation\n",
        "def br(x,y):\n",
        "    return Ad(x,y)*(y**-1)\n",
        "\n",
        "# define the standard pair of pants on the genus two surface.\n",
        "pant={a,b,c}\n",
        "\n",
        "zeta=a*e*c*f*b  # zeta is the order 6 element in MCG arising from chain relation. ##   \n",
        "nu=a*e*c*f      # nu is order 10 element in MCG \n",
        "mu=nu**4        # mu is order 5 element in MCG. \n",
        " \n",
        "\n",
        "\n",
        "# The following code shows that pant and mu.pant are \"dual\" pants. \n",
        "# for x in pant:\n",
        "#    for y in Translate(mu, pant):\n",
        "#        if br(x,y)==Id:\n",
        "#            print(\"The elements commute! And the curves are disjoint!\" )\n",
        "#        if br(x,y)!=Id:\n",
        "#            print(\"The elements are NONcommuting. Now evaluating dual relation:\", x*y*x==y*x*y)\n",
        "#        else: pass\n",
        "    \n",
        "    \n",
        "## xi is the steinberg symbol in our case. \n",
        "## xi is obtained by joining the initial pant p with its mu translate. \n",
        "xi=pant|Translate(mu, pant)   \n",
        "\n",
        "## We need verify that the mu-translate of p is \"dual\" to p \n",
        "## in the appropriate intersection-theoretic sense. This duality\n",
        "## is nonstandard definition. \n",
        "#print(xi)\n",
        "\n",
        " ## important to verify that pant and the mu-translate are disjoint.\n",
        " ## Ad(mu,pant) is \"opposite pair of pants\"\n",
        "print(\"The mu translate of the standard pant is disjoint from pant. \", pant & Translate(mu, pant) == set())  \n",
        "print()\n",
        "    \n",
        "## Now translate the symbol xi by the powers of mu.\n",
        "## The translates are not disjoint, good!, that means there is cancellation in the symmetric difference.\n",
        "print(\"The Steinberg symbol in our calculation is xi, and is the sum of the standard pant with its mu translate.\") \n",
        "print()\n",
        "\n",
        "M0=xi\n",
        "M1=Translate(mu,xi)\n",
        "M2=Translate(mu**2,xi)\n",
        "M3=Translate(mu**3,xi)\n",
        "M4=Translate(mu**4,xi)\n",
        "\n",
        "## The following proves that all the symbol translates are nontrivial, and there is no complete coincidence\n",
        "## between the translated symbols.\n",
        "print(\"The mu translates of xi are all pairwise distinct:\", M0!=M1 and M0!=M2 and M0!=M3 and M0!=M4 and M1!=M2 and M1!=M3 and M1!=M4 and M2!=M3 and M2!=M4 and M3!=M4  )\n",
        "print()\n",
        "## The following proves that the total chain sum of the translated symbols vanishes mod 2. \n",
        "## I.e. the iterated symmetric difference of the translated symbols is equal to empty set.\n",
        "print(\"The iterated symmetric difference of the mu translates is empty.\", ((((M0^M1))^M2)^M3)^M4 ==set())\n",
        "print()\n",
        "print(\"The mu-orbit of xi is supported on ten curves.\", 10==len(M0|M1|M2|M3|M4)   )\n",
        "\n",
        "print()\n",
        "print(\"Therefore we find I={Id, mu, mu**2, mu**3, mu**4} is a formal solution to Closing the Steinberg symbol xi in genus two.\")\n",
        "print(\"\")\n"
      ]
    },
    {
      "cell_type": "code",
      "source": [
        "B0=M0|M1|M2|M3|M4\n",
        "\n",
        "gen=(Id, a, A, b, B, c, C, d, D, e, E, f, F)\n",
        "gen1=(x*y for x in gen for y in gen)\n",
        "sample1=set(gen)|set(gen1)\n",
        "gen2=(x*y for x in gen for y in sample1)\n",
        "sample2=sample1|set(gen2)\n",
        "# gen3=(x*y for x in gen for y in gen2)\n",
        "\n",
        "#len(set(gen3))\n",
        "\n",
        "len(sample2)\n",
        "\n",
        "#for word in gen1:\n",
        "#  print( len(Translate(word, B0) & B0))\n",
        "\n",
        "\n",
        "\n",
        "\n",
        "\n"
      ],
      "metadata": {
        "id": "wMip0Af83tUr",
        "colab": {
          "base_uri": "https://localhost:8080/"
        },
        "outputId": "0eab014a-abee-4240-a91f-7bde470c6e73"
      },
      "id": "wMip0Af83tUr",
      "execution_count": null,
      "outputs": [
        {
          "output_type": "execute_result",
          "data": {
            "text/plain": [
              "105"
            ]
          },
          "metadata": {},
          "execution_count": 47
        }
      ]
    }
  ],
  "metadata": {
    "kernelspec": {
      "display_name": "Python 3 (ipykernel)",
      "language": "python",
      "name": "python3"
    },
    "language_info": {
      "codemirror_mode": {
        "name": "ipython",
        "version": 3
      },
      "file_extension": ".py",
      "mimetype": "text/x-python",
      "name": "python",
      "nbconvert_exporter": "python",
      "pygments_lexer": "ipython3",
      "version": "3.9.5"
    },
    "toc-showmarkdowntxt": true,
    "colab": {
      "name": "2022-02-08-ClosingSteinbergGenusTwo.ipynb",
      "provenance": [],
      "collapsed_sections": [],
      "include_colab_link": true
    }
  },
  "nbformat": 4,
  "nbformat_minor": 5
}
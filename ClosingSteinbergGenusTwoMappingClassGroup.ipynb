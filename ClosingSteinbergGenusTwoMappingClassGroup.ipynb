{
 "cells": [
  {
   "cell_type": "code",
   "execution_count": 7,
   "id": "fc59ac01-4400-4801-a673-e60f40fa345b",
   "metadata": {
    "tags": []
   },
   "outputs": [
    {
     "name": "stdout",
     "output_type": "stream",
     "text": [
      "{MappingClass [Flip 0, Flip 6, Flip ~1, Flip ~3, Flip 7, Flip 5, Flip ~2, Flip 1, Twist^1_Curve [0, 0, 1, 0, 0, 0, 1, 0, 0] on 9_Q1xjMXaf , Flip ~1, Flip 2, Flip ~5, Flip ~7, Flip 3, Flip 1, Flip ~6, Flip ~0], MappingClass [Twist^1_Curve [0, 0, 0, 0, 0, 1, 1, 1, 0] on 9_qBFcQEN4 ], MappingClass [Twist^1_Curve [0, 1, 1, 1, 0, 0, 0, 0, 0] on 9_qBFcQEN4 ], MappingClass [Twist^1_Curve [0, 1, 1, 1, 0, 0, 0, 0, 0] on 9_qBFcQEN4 , Twist^1_Curve [0, 1, 1, 0, 1, 0, 0, 0, 0] on 9_qBFcQEN4 , Flip 0, Flip 6, Flip ~1, Flip ~3, Flip 7, Flip 5, Flip ~2, Flip 1, Twist^1_Curve [0, 0, 1, 0, 0, 0, 1, 0, 0] on 9_Q1xjMXaf , Flip ~1, Flip 2, Flip ~5, Flip ~7, Flip 3, Flip 1, Flip ~6, Flip ~0, Twist^1_Curve [0, 0, 0, 0, 0, 1, 1, 0, 1] on 9_qBFcQEN4 , Twist^1_Curve [0, 1, 1, 1, 0, 0, 0, 0, 0] on 9_qBFcQEN4 , Twist^1_Curve [0, 1, 1, 0, 1, 0, 0, 0, 0] on 9_qBFcQEN4 , Flip 0, Flip 6, Flip ~1, Flip ~3, Flip 7, Flip 5, Flip ~2, Flip 1, Twist^1_Curve [0, 0, 1, 0, 0, 0, 1, 0, 0] on 9_Q1xjMXaf , Flip ~1, Flip 2, Flip ~5, Flip ~7, Flip 3, Flip 1, Flip ~6, Flip ~0, Twist^1_Curve [0, 0, 0, 0, 0, 1, 1, 0, 1] on 9_qBFcQEN4 , Twist^1_Curve [0, 1, 1, 1, 0, 0, 0, 0, 0] on 9_qBFcQEN4 , Twist^1_Curve [0, 1, 1, 0, 1, 0, 0, 0, 0] on 9_qBFcQEN4 , Flip 0, Flip 6, Flip ~1, Flip ~3, Flip 7, Flip 5, Flip ~2, Flip 1, Twist^1_Curve [0, 0, 1, 0, 0, 0, 1, 0, 0] on 9_Q1xjMXaf , Flip ~1, Flip 2, Flip ~5, Flip ~7, Flip 3, Flip 1, Flip ~6, Flip ~0, Twist^1_Curve [0, 0, 0, 0, 0, 1, 1, 0, 1] on 9_qBFcQEN4 , Twist^1_Curve [0, 1, 1, 1, 0, 0, 0, 0, 0] on 9_qBFcQEN4 , Twist^1_Curve [0, 1, 1, 0, 1, 0, 0, 0, 0] on 9_qBFcQEN4 , Flip 0, Flip 6, Flip ~1, Flip ~3, Flip 7, Flip 5, Flip ~2, Flip 1, Twist^1_Curve [0, 0, 1, 0, 0, 0, 1, 0, 0] on 9_Q1xjMXaf , Flip ~1, Flip 2, Flip ~5, Flip ~7, Flip 3, Flip 1, Flip ~6, Flip ~0, Twist^1_Curve [0, 0, 0, 0, 0, 1, 1, 0, 1] on 9_qBFcQEN4 , Flip 0, Flip 6, Flip ~1, Flip ~3, Flip 7, Flip 5, Flip ~2, Flip 1, Twist^1_Curve [0, 0, 1, 0, 0, 0, 1, 0, 0] on 9_Q1xjMXaf , Flip ~1, Flip 2, Flip ~5, Flip ~7, Flip 3, Flip 1, Flip ~6, Flip ~0, Twist^-1_Curve [0, 0, 0, 0, 0, 1, 1, 0, 1] on 9_qBFcQEN4 , Flip 0, Flip 6, Flip ~1, Flip ~3, Flip 7, Flip 5, Flip ~2, Flip 1, Twist^-1_Curve [0, 0, 1, 0, 0, 0, 1, 0, 0] on 9_Q1xjMXaf , Flip ~1, Flip 2, Flip ~5, Flip ~7, Flip 3, Flip 1, Flip ~6, Flip ~0, Twist^-1_Curve [0, 1, 1, 0, 1, 0, 0, 0, 0] on 9_qBFcQEN4 , Twist^-1_Curve [0, 1, 1, 1, 0, 0, 0, 0, 0] on 9_qBFcQEN4 , Twist^-1_Curve [0, 0, 0, 0, 0, 1, 1, 0, 1] on 9_qBFcQEN4 , Flip 0, Flip 6, Flip ~1, Flip ~3, Flip 7, Flip 5, Flip ~2, Flip 1, Twist^-1_Curve [0, 0, 1, 0, 0, 0, 1, 0, 0] on 9_Q1xjMXaf , Flip ~1, Flip 2, Flip ~5, Flip ~7, Flip 3, Flip 1, Flip ~6, Flip ~0, Twist^-1_Curve [0, 1, 1, 0, 1, 0, 0, 0, 0] on 9_qBFcQEN4 , Twist^-1_Curve [0, 1, 1, 1, 0, 0, 0, 0, 0] on 9_qBFcQEN4 , Twist^-1_Curve [0, 0, 0, 0, 0, 1, 1, 0, 1] on 9_qBFcQEN4 , Flip 0, Flip 6, Flip ~1, Flip ~3, Flip 7, Flip 5, Flip ~2, Flip 1, Twist^-1_Curve [0, 0, 1, 0, 0, 0, 1, 0, 0] on 9_Q1xjMXaf , Flip ~1, Flip 2, Flip ~5, Flip ~7, Flip 3, Flip 1, Flip ~6, Flip ~0, Twist^-1_Curve [0, 1, 1, 0, 1, 0, 0, 0, 0] on 9_qBFcQEN4 , Twist^-1_Curve [0, 1, 1, 1, 0, 0, 0, 0, 0] on 9_qBFcQEN4 , Twist^-1_Curve [0, 0, 0, 0, 0, 1, 1, 0, 1] on 9_qBFcQEN4 , Flip 0, Flip 6, Flip ~1, Flip ~3, Flip 7, Flip 5, Flip ~2, Flip 1, Twist^-1_Curve [0, 0, 1, 0, 0, 0, 1, 0, 0] on 9_Q1xjMXaf , Flip ~1, Flip 2, Flip ~5, Flip ~7, Flip 3, Flip 1, Flip ~6, Flip ~0, Twist^-1_Curve [0, 1, 1, 0, 1, 0, 0, 0, 0] on 9_qBFcQEN4 , Twist^-1_Curve [0, 1, 1, 1, 0, 0, 0, 0, 0] on 9_qBFcQEN4 ], MappingClass [Twist^1_Curve [0, 1, 1, 1, 0, 0, 0, 0, 0] on 9_qBFcQEN4 , Twist^1_Curve [0, 1, 1, 0, 1, 0, 0, 0, 0] on 9_qBFcQEN4 , Flip 0, Flip 6, Flip ~1, Flip ~3, Flip 7, Flip 5, Flip ~2, Flip 1, Twist^1_Curve [0, 0, 1, 0, 0, 0, 1, 0, 0] on 9_Q1xjMXaf , Flip ~1, Flip 2, Flip ~5, Flip ~7, Flip 3, Flip 1, Flip ~6, Flip ~0, Twist^1_Curve [0, 0, 0, 0, 0, 1, 1, 0, 1] on 9_qBFcQEN4 , Twist^1_Curve [0, 1, 1, 1, 0, 0, 0, 0, 0] on 9_qBFcQEN4 , Twist^1_Curve [0, 1, 1, 0, 1, 0, 0, 0, 0] on 9_qBFcQEN4 , Flip 0, Flip 6, Flip ~1, Flip ~3, Flip 7, Flip 5, Flip ~2, Flip 1, Twist^1_Curve [0, 0, 1, 0, 0, 0, 1, 0, 0] on 9_Q1xjMXaf , Flip ~1, Flip 2, Flip ~5, Flip ~7, Flip 3, Flip 1, Flip ~6, Flip ~0, Twist^1_Curve [0, 0, 0, 0, 0, 1, 1, 0, 1] on 9_qBFcQEN4 , Twist^1_Curve [0, 1, 1, 1, 0, 0, 0, 0, 0] on 9_qBFcQEN4 , Twist^1_Curve [0, 1, 1, 0, 1, 0, 0, 0, 0] on 9_qBFcQEN4 , Flip 0, Flip 6, Flip ~1, Flip ~3, Flip 7, Flip 5, Flip ~2, Flip 1, Twist^1_Curve [0, 0, 1, 0, 0, 0, 1, 0, 0] on 9_Q1xjMXaf , Flip ~1, Flip 2, Flip ~5, Flip ~7, Flip 3, Flip 1, Flip ~6, Flip ~0, Twist^1_Curve [0, 0, 0, 0, 0, 1, 1, 0, 1] on 9_qBFcQEN4 , Twist^1_Curve [0, 1, 1, 1, 0, 0, 0, 0, 0] on 9_qBFcQEN4 , Twist^1_Curve [0, 1, 1, 0, 1, 0, 0, 0, 0] on 9_qBFcQEN4 , Flip 0, Flip 6, Flip ~1, Flip ~3, Flip 7, Flip 5, Flip ~2, Flip 1, Twist^1_Curve [0, 0, 1, 0, 0, 0, 1, 0, 0] on 9_Q1xjMXaf , Flip ~1, Flip 2, Flip ~5, Flip ~7, Flip 3, Flip 1, Flip ~6, Flip ~0, Twist^1_Curve [0, 0, 0, 0, 0, 1, 1, 0, 1] on 9_qBFcQEN4 , Twist^1_Curve [0, 0, 0, 0, 0, 1, 1, 1, 0] on 9_qBFcQEN4 , Twist^-1_Curve [0, 0, 0, 0, 0, 1, 1, 0, 1] on 9_qBFcQEN4 , Flip 0, Flip 6, Flip ~1, Flip ~3, Flip 7, Flip 5, Flip ~2, Flip 1, Twist^-1_Curve [0, 0, 1, 0, 0, 0, 1, 0, 0] on 9_Q1xjMXaf , Flip ~1, Flip 2, Flip ~5, Flip ~7, Flip 3, Flip 1, Flip ~6, Flip ~0, Twist^-1_Curve [0, 1, 1, 0, 1, 0, 0, 0, 0] on 9_qBFcQEN4 , Twist^-1_Curve [0, 1, 1, 1, 0, 0, 0, 0, 0] on 9_qBFcQEN4 , Twist^-1_Curve [0, 0, 0, 0, 0, 1, 1, 0, 1] on 9_qBFcQEN4 , Flip 0, Flip 6, Flip ~1, Flip ~3, Flip 7, Flip 5, Flip ~2, Flip 1, Twist^-1_Curve [0, 0, 1, 0, 0, 0, 1, 0, 0] on 9_Q1xjMXaf , Flip ~1, Flip 2, Flip ~5, Flip ~7, Flip 3, Flip 1, Flip ~6, Flip ~0, Twist^-1_Curve [0, 1, 1, 0, 1, 0, 0, 0, 0] on 9_qBFcQEN4 , Twist^-1_Curve [0, 1, 1, 1, 0, 0, 0, 0, 0] on 9_qBFcQEN4 , Twist^-1_Curve [0, 0, 0, 0, 0, 1, 1, 0, 1] on 9_qBFcQEN4 , Flip 0, Flip 6, Flip ~1, Flip ~3, Flip 7, Flip 5, Flip ~2, Flip 1, Twist^-1_Curve [0, 0, 1, 0, 0, 0, 1, 0, 0] on 9_Q1xjMXaf , Flip ~1, Flip 2, Flip ~5, Flip ~7, Flip 3, Flip 1, Flip ~6, Flip ~0, Twist^-1_Curve [0, 1, 1, 0, 1, 0, 0, 0, 0] on 9_qBFcQEN4 , Twist^-1_Curve [0, 1, 1, 1, 0, 0, 0, 0, 0] on 9_qBFcQEN4 , Twist^-1_Curve [0, 0, 0, 0, 0, 1, 1, 0, 1] on 9_qBFcQEN4 , Flip 0, Flip 6, Flip ~1, Flip ~3, Flip 7, Flip 5, Flip ~2, Flip 1, Twist^-1_Curve [0, 0, 1, 0, 0, 0, 1, 0, 0] on 9_Q1xjMXaf , Flip ~1, Flip 2, Flip ~5, Flip ~7, Flip 3, Flip 1, Flip ~6, Flip ~0, Twist^-1_Curve [0, 1, 1, 0, 1, 0, 0, 0, 0] on 9_qBFcQEN4 , Twist^-1_Curve [0, 1, 1, 1, 0, 0, 0, 0, 0] on 9_qBFcQEN4 ], MappingClass [Twist^1_Curve [0, 1, 1, 1, 0, 0, 0, 0, 0] on 9_qBFcQEN4 , Twist^1_Curve [0, 1, 1, 0, 1, 0, 0, 0, 0] on 9_qBFcQEN4 , Flip 0, Flip 6, Flip ~1, Flip ~3, Flip 7, Flip 5, Flip ~2, Flip 1, Twist^1_Curve [0, 0, 1, 0, 0, 0, 1, 0, 0] on 9_Q1xjMXaf , Flip ~1, Flip 2, Flip ~5, Flip ~7, Flip 3, Flip 1, Flip ~6, Flip ~0, Twist^1_Curve [0, 0, 0, 0, 0, 1, 1, 0, 1] on 9_qBFcQEN4 , Twist^1_Curve [0, 1, 1, 1, 0, 0, 0, 0, 0] on 9_qBFcQEN4 , Twist^1_Curve [0, 1, 1, 0, 1, 0, 0, 0, 0] on 9_qBFcQEN4 , Flip 0, Flip 6, Flip ~1, Flip ~3, Flip 7, Flip 5, Flip ~2, Flip 1, Twist^1_Curve [0, 0, 1, 0, 0, 0, 1, 0, 0] on 9_Q1xjMXaf , Flip ~1, Flip 2, Flip ~5, Flip ~7, Flip 3, Flip 1, Flip ~6, Flip ~0, Twist^1_Curve [0, 0, 0, 0, 0, 1, 1, 0, 1] on 9_qBFcQEN4 , Twist^1_Curve [0, 1, 1, 1, 0, 0, 0, 0, 0] on 9_qBFcQEN4 , Twist^1_Curve [0, 1, 1, 0, 1, 0, 0, 0, 0] on 9_qBFcQEN4 , Flip 0, Flip 6, Flip ~1, Flip ~3, Flip 7, Flip 5, Flip ~2, Flip 1, Twist^1_Curve [0, 0, 1, 0, 0, 0, 1, 0, 0] on 9_Q1xjMXaf , Flip ~1, Flip 2, Flip ~5, Flip ~7, Flip 3, Flip 1, Flip ~6, Flip ~0, Twist^1_Curve [0, 0, 0, 0, 0, 1, 1, 0, 1] on 9_qBFcQEN4 , Twist^1_Curve [0, 1, 1, 1, 0, 0, 0, 0, 0] on 9_qBFcQEN4 , Twist^1_Curve [0, 1, 1, 0, 1, 0, 0, 0, 0] on 9_qBFcQEN4 , Flip 0, Flip 6, Flip ~1, Flip ~3, Flip 7, Flip 5, Flip ~2, Flip 1, Twist^1_Curve [0, 0, 1, 0, 0, 0, 1, 0, 0] on 9_Q1xjMXaf , Flip ~1, Flip 2, Flip ~5, Flip ~7, Flip 3, Flip 1, Flip ~6, Flip ~0, Twist^1_Curve [0, 0, 0, 0, 0, 1, 1, 0, 1] on 9_qBFcQEN4 , Twist^1_Curve [0, 1, 1, 1, 0, 0, 0, 0, 0] on 9_qBFcQEN4 , Twist^-1_Curve [0, 0, 0, 0, 0, 1, 1, 0, 1] on 9_qBFcQEN4 , Flip 0, Flip 6, Flip ~1, Flip ~3, Flip 7, Flip 5, Flip ~2, Flip 1, Twist^-1_Curve [0, 0, 1, 0, 0, 0, 1, 0, 0] on 9_Q1xjMXaf , Flip ~1, Flip 2, Flip ~5, Flip ~7, Flip 3, Flip 1, Flip ~6, Flip ~0, Twist^-1_Curve [0, 1, 1, 0, 1, 0, 0, 0, 0] on 9_qBFcQEN4 , Twist^-1_Curve [0, 1, 1, 1, 0, 0, 0, 0, 0] on 9_qBFcQEN4 , Twist^-1_Curve [0, 0, 0, 0, 0, 1, 1, 0, 1] on 9_qBFcQEN4 , Flip 0, Flip 6, Flip ~1, Flip ~3, Flip 7, Flip 5, Flip ~2, Flip 1, Twist^-1_Curve [0, 0, 1, 0, 0, 0, 1, 0, 0] on 9_Q1xjMXaf , Flip ~1, Flip 2, Flip ~5, Flip ~7, Flip 3, Flip 1, Flip ~6, Flip ~0, Twist^-1_Curve [0, 1, 1, 0, 1, 0, 0, 0, 0] on 9_qBFcQEN4 , Twist^-1_Curve [0, 1, 1, 1, 0, 0, 0, 0, 0] on 9_qBFcQEN4 , Twist^-1_Curve [0, 0, 0, 0, 0, 1, 1, 0, 1] on 9_qBFcQEN4 , Flip 0, Flip 6, Flip ~1, Flip ~3, Flip 7, Flip 5, Flip ~2, Flip 1, Twist^-1_Curve [0, 0, 1, 0, 0, 0, 1, 0, 0] on 9_Q1xjMXaf , Flip ~1, Flip 2, Flip ~5, Flip ~7, Flip 3, Flip 1, Flip ~6, Flip ~0, Twist^-1_Curve [0, 1, 1, 0, 1, 0, 0, 0, 0] on 9_qBFcQEN4 , Twist^-1_Curve [0, 1, 1, 1, 0, 0, 0, 0, 0] on 9_qBFcQEN4 , Twist^-1_Curve [0, 0, 0, 0, 0, 1, 1, 0, 1] on 9_qBFcQEN4 , Flip 0, Flip 6, Flip ~1, Flip ~3, Flip 7, Flip 5, Flip ~2, Flip 1, Twist^-1_Curve [0, 0, 1, 0, 0, 0, 1, 0, 0] on 9_Q1xjMXaf , Flip ~1, Flip 2, Flip ~5, Flip ~7, Flip 3, Flip 1, Flip ~6, Flip ~0, Twist^-1_Curve [0, 1, 1, 0, 1, 0, 0, 0, 0] on 9_qBFcQEN4 , Twist^-1_Curve [0, 1, 1, 1, 0, 0, 0, 0, 0] on 9_qBFcQEN4 ]}\n",
      "True\n",
      "True\n",
      "True\n"
     ]
    }
   ],
   "source": [
    "import curver\n",
    "\n",
    "## we load the mapping class group of genus two with one puncture ##\n",
    "S=curver.load(2,1)  \n",
    "\n",
    "## Below are the standard generators in Lickorish presentation, following Bell, Margalit, etc.. ##\n",
    "Id=S('') \n",
    "a=S('a_0')\n",
    "A=a**-1\n",
    "b=S('a_1')\n",
    "B=b**-1\n",
    "c=S('c_0')\n",
    "C=c**-1\n",
    "d=S('d_1')\n",
    "D=d**-1\n",
    "e=S('b_0')\n",
    "E=e**-1\n",
    "f=S('b_1')\n",
    "F=f**-1\n",
    "\n",
    "def Ad(w1, w2):\n",
    "    return w1*w2*(w1**-1)\n",
    "\n",
    "def Translate(x, p):\n",
    "    return {Ad(x,w) for w in p}\n",
    "\n",
    "pant={a,b,c}\n",
    "\n",
    "zeta=a*e*c*f*b  ## zeta is the order 6 element in MCG arising from chain relation. ##   \n",
    "nu=a*e*c*f      ## nu is order 10 element in MCG \n",
    "mu=nu**4        ## mu is order 5 element in MCG. \n",
    " \n",
    "xi=pant|Translate(mu, pant)   ## xi is the steinberg symbol in our case. \n",
    "\n",
    "print(xi)\n",
    "print(pant & Translate(mu, pant) == set())   ## important to verify that pant and the mu-translate are disjoint.\n",
    "                                             ## Ad(mu,pant) is \"opposite pair of pants\"\n",
    "\n",
    "    \n",
    "## Now translate the symbol xi by the powers of mu.\n",
    "## The translates are not disjoint, good!, that means there is cancellation in the symmetric difference.\n",
    "M0=xi\n",
    "M1=Translate(mu,xi)\n",
    "M2=Translate(mu**2,xi)\n",
    "M3=Translate(mu**3,xi)\n",
    "M4=Translate(mu**4,xi)\n",
    "\n",
    "## The following proves that all the symbol translates are nontrivial, and there is no complete coincidence\n",
    "## between the translated symbols.\n",
    "print(M0!=M1 and M0!=M2 and M0!=M3 and M0!=M4 and M1!=M2 and M1!=M3 and M1!=M4 and M2!=M3 and M2!=M4 and M3!=M4  )\n",
    "\n",
    "## The following proves that the total chain sum of the translated symbols vanishes mod 2. \n",
    "## I.e. the iterated symmetric difference of the translated symbols is equal to empty set.\n",
    "print(((((M0^M1))^M2)^M3)^M4 ==set())\n",
    "\n",
    "\n"
   ]
  },
  {
   "cell_type": "code",
   "execution_count": null,
   "id": "4941aa42-4b22-451e-ac0a-2abf127af05f",
   "metadata": {},
   "outputs": [],
   "source": []
  }
 ],
 "metadata": {
  "kernelspec": {
   "display_name": "Python 3 (ipykernel)",
   "language": "python",
   "name": "python3"
  },
  "language_info": {
   "codemirror_mode": {
    "name": "ipython",
    "version": 3
   },
   "file_extension": ".py",
   "mimetype": "text/x-python",
   "name": "python",
   "nbconvert_exporter": "python",
   "pygments_lexer": "ipython3",
   "version": "3.9.5"
  },
  "toc-showmarkdowntxt": true
 },
 "nbformat": 4,
 "nbformat_minor": 5
}
